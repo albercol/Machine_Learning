{
 "cells": [
  {
   "cell_type": "markdown",
   "id": "bb3061ab",
   "metadata": {},
   "source": [
    "# Indentificar fronteras no lineales"
   ]
  },
  {
   "cell_type": "code",
   "execution_count": null,
   "id": "f61f5212",
   "metadata": {},
   "outputs": [],
   "source": [
    "from sklearn.datasets.samples_generator import make_circles\n"
   ]
  }
 ],
 "metadata": {
  "kernelspec": {
   "display_name": "Python 3",
   "language": "python",
   "name": "python3"
  },
  "language_info": {
   "codemirror_mode": {
    "name": "ipython",
    "version": 3
   },
   "file_extension": ".py",
   "mimetype": "text/x-python",
   "name": "python",
   "nbconvert_exporter": "python",
   "pygments_lexer": "ipython3",
   "version": "3.5.6"
  }
 },
 "nbformat": 4,
 "nbformat_minor": 5
}
