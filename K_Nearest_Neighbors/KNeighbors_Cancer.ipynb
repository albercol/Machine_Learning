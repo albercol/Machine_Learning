{
 "cells": [
  {
   "cell_type": "markdown",
   "id": "917f1f2e",
   "metadata": {},
   "source": [
    "# Clasificacion de los K vecinos."
   ]
  },
  {
   "cell_type": "code",
   "execution_count": 28,
   "id": "c89321eb",
   "metadata": {},
   "outputs": [],
   "source": [
    "import numpy as np\n",
    "from sklearn import preprocessing, neighbors\n",
    "from sklearn.model_selection import cross_val_score\n",
    "from sklearn.model_selection import train_test_split\n",
    "import pandas as pd"
   ]
  },
  {
   "cell_type": "code",
   "execution_count": 29,
   "id": "b43d7d7e",
   "metadata": {},
   "outputs": [
    {
     "data": {
      "text/html": [
       "<div>\n",
       "<style scoped>\n",
       "    .dataframe tbody tr th:only-of-type {\n",
       "        vertical-align: middle;\n",
       "    }\n",
       "\n",
       "    .dataframe tbody tr th {\n",
       "        vertical-align: top;\n",
       "    }\n",
       "\n",
       "    .dataframe thead th {\n",
       "        text-align: right;\n",
       "    }\n",
       "</style>\n",
       "<table border=\"1\" class=\"dataframe\">\n",
       "  <thead>\n",
       "    <tr style=\"text-align: right;\">\n",
       "      <th></th>\n",
       "      <th>Id</th>\n",
       "      <th>V1</th>\n",
       "      <th>V2</th>\n",
       "      <th>V3</th>\n",
       "      <th>V4</th>\n",
       "      <th>V5</th>\n",
       "      <th>V6</th>\n",
       "      <th>V7</th>\n",
       "      <th>V8</th>\n",
       "      <th>V9</th>\n",
       "      <th>Class</th>\n",
       "    </tr>\n",
       "  </thead>\n",
       "  <tbody>\n",
       "    <tr>\n",
       "      <th>0</th>\n",
       "      <td>1000025</td>\n",
       "      <td>5</td>\n",
       "      <td>1</td>\n",
       "      <td>1</td>\n",
       "      <td>1</td>\n",
       "      <td>2</td>\n",
       "      <td>1</td>\n",
       "      <td>3</td>\n",
       "      <td>1</td>\n",
       "      <td>1</td>\n",
       "      <td>2</td>\n",
       "    </tr>\n",
       "    <tr>\n",
       "      <th>1</th>\n",
       "      <td>1002945</td>\n",
       "      <td>5</td>\n",
       "      <td>4</td>\n",
       "      <td>4</td>\n",
       "      <td>5</td>\n",
       "      <td>7</td>\n",
       "      <td>10</td>\n",
       "      <td>3</td>\n",
       "      <td>2</td>\n",
       "      <td>1</td>\n",
       "      <td>2</td>\n",
       "    </tr>\n",
       "    <tr>\n",
       "      <th>2</th>\n",
       "      <td>1015425</td>\n",
       "      <td>3</td>\n",
       "      <td>1</td>\n",
       "      <td>1</td>\n",
       "      <td>1</td>\n",
       "      <td>2</td>\n",
       "      <td>2</td>\n",
       "      <td>3</td>\n",
       "      <td>1</td>\n",
       "      <td>1</td>\n",
       "      <td>2</td>\n",
       "    </tr>\n",
       "    <tr>\n",
       "      <th>3</th>\n",
       "      <td>1016277</td>\n",
       "      <td>6</td>\n",
       "      <td>8</td>\n",
       "      <td>8</td>\n",
       "      <td>1</td>\n",
       "      <td>3</td>\n",
       "      <td>4</td>\n",
       "      <td>3</td>\n",
       "      <td>7</td>\n",
       "      <td>1</td>\n",
       "      <td>2</td>\n",
       "    </tr>\n",
       "    <tr>\n",
       "      <th>4</th>\n",
       "      <td>1017023</td>\n",
       "      <td>4</td>\n",
       "      <td>1</td>\n",
       "      <td>1</td>\n",
       "      <td>3</td>\n",
       "      <td>2</td>\n",
       "      <td>1</td>\n",
       "      <td>3</td>\n",
       "      <td>1</td>\n",
       "      <td>1</td>\n",
       "      <td>2</td>\n",
       "    </tr>\n",
       "  </tbody>\n",
       "</table>\n",
       "</div>"
      ],
      "text/plain": [
       "        Id  V1  V2  V3  V4  V5  V6  V7  V8  V9  Class\n",
       "0  1000025   5   1   1   1   2   1   3   1   1      2\n",
       "1  1002945   5   4   4   5   7  10   3   2   1      2\n",
       "2  1015425   3   1   1   1   2   2   3   1   1      2\n",
       "3  1016277   6   8   8   1   3   4   3   7   1      2\n",
       "4  1017023   4   1   1   3   2   1   3   1   1      2"
      ]
     },
     "execution_count": 29,
     "metadata": {},
     "output_type": "execute_result"
    }
   ],
   "source": [
    "#Cargamos dataset sobre el cancer en wisconsin\n",
    "url = \"https://raw.githubusercontent.com/joanby/python-ml-course/master/datasets/cancer/breast-cancer-wisconsin.data.txt\"\n",
    "\n",
    "#como no tienen nombre las columnas quitamos el nombre de las columnas.\n",
    "df = pd.read_csv(url, header = None)\n",
    "\n",
    "#Renombreamos las columnas\n",
    "df.columns = [\"Id\", \"V1\", \"V2\", \"V3\", \"V4\", \"V5\", \"V6\", \"V7\", \"V8\", \"V9\", \"Class\"]\n",
    "df.head()"
   ]
  },
  {
   "cell_type": "code",
   "execution_count": 30,
   "id": "62ebb6a4",
   "metadata": {},
   "outputs": [
    {
     "data": {
      "text/html": [
       "<div>\n",
       "<style scoped>\n",
       "    .dataframe tbody tr th:only-of-type {\n",
       "        vertical-align: middle;\n",
       "    }\n",
       "\n",
       "    .dataframe tbody tr th {\n",
       "        vertical-align: top;\n",
       "    }\n",
       "\n",
       "    .dataframe thead th {\n",
       "        text-align: right;\n",
       "    }\n",
       "</style>\n",
       "<table border=\"1\" class=\"dataframe\">\n",
       "  <thead>\n",
       "    <tr style=\"text-align: right;\">\n",
       "      <th></th>\n",
       "      <th>V1</th>\n",
       "      <th>V2</th>\n",
       "      <th>V3</th>\n",
       "      <th>V4</th>\n",
       "      <th>V5</th>\n",
       "      <th>V6</th>\n",
       "      <th>V7</th>\n",
       "      <th>V8</th>\n",
       "      <th>V9</th>\n",
       "      <th>Class</th>\n",
       "    </tr>\n",
       "  </thead>\n",
       "  <tbody>\n",
       "    <tr>\n",
       "      <th>0</th>\n",
       "      <td>5</td>\n",
       "      <td>1</td>\n",
       "      <td>1</td>\n",
       "      <td>1</td>\n",
       "      <td>2</td>\n",
       "      <td>1</td>\n",
       "      <td>3</td>\n",
       "      <td>1</td>\n",
       "      <td>1</td>\n",
       "      <td>2</td>\n",
       "    </tr>\n",
       "    <tr>\n",
       "      <th>1</th>\n",
       "      <td>5</td>\n",
       "      <td>4</td>\n",
       "      <td>4</td>\n",
       "      <td>5</td>\n",
       "      <td>7</td>\n",
       "      <td>10</td>\n",
       "      <td>3</td>\n",
       "      <td>2</td>\n",
       "      <td>1</td>\n",
       "      <td>2</td>\n",
       "    </tr>\n",
       "    <tr>\n",
       "      <th>2</th>\n",
       "      <td>3</td>\n",
       "      <td>1</td>\n",
       "      <td>1</td>\n",
       "      <td>1</td>\n",
       "      <td>2</td>\n",
       "      <td>2</td>\n",
       "      <td>3</td>\n",
       "      <td>1</td>\n",
       "      <td>1</td>\n",
       "      <td>2</td>\n",
       "    </tr>\n",
       "    <tr>\n",
       "      <th>3</th>\n",
       "      <td>6</td>\n",
       "      <td>8</td>\n",
       "      <td>8</td>\n",
       "      <td>1</td>\n",
       "      <td>3</td>\n",
       "      <td>4</td>\n",
       "      <td>3</td>\n",
       "      <td>7</td>\n",
       "      <td>1</td>\n",
       "      <td>2</td>\n",
       "    </tr>\n",
       "    <tr>\n",
       "      <th>4</th>\n",
       "      <td>4</td>\n",
       "      <td>1</td>\n",
       "      <td>1</td>\n",
       "      <td>3</td>\n",
       "      <td>2</td>\n",
       "      <td>1</td>\n",
       "      <td>3</td>\n",
       "      <td>1</td>\n",
       "      <td>1</td>\n",
       "      <td>2</td>\n",
       "    </tr>\n",
       "  </tbody>\n",
       "</table>\n",
       "</div>"
      ],
      "text/plain": [
       "   V1  V2  V3  V4  V5  V6  V7  V8  V9  Class\n",
       "0   5   1   1   1   2   1   3   1   1      2\n",
       "1   5   4   4   5   7  10   3   2   1      2\n",
       "2   3   1   1   1   2   2   3   1   1      2\n",
       "3   6   8   8   1   3   4   3   7   1      2\n",
       "4   4   1   1   3   2   1   3   1   1      2"
      ]
     },
     "execution_count": 30,
     "metadata": {},
     "output_type": "execute_result"
    }
   ],
   "source": [
    "df1 = df.drop([\"Id\"], 1)\n",
    "\n",
    "#Reemplazamos los interrogantes por un numero que no se tenga en consideracion. (inplace=True) hace el reemplazo directamente\n",
    "df1.replace(\"?\", -99999, inplace = True)\n",
    "df1.head()"
   ]
  },
  {
   "cell_type": "code",
   "execution_count": 31,
   "id": "932d550c",
   "metadata": {},
   "outputs": [],
   "source": [
    "Y = df1[\"Class\"]\n",
    "cols = [\"V1\", \"V2\", \"V3\", \"V4\", \"V5\", \"V6\", \"V7\", \"V8\", \"V9\"]\n",
    "X = df1[cols]"
   ]
  },
  {
   "cell_type": "code",
   "execution_count": 32,
   "id": "9925fd53",
   "metadata": {},
   "outputs": [],
   "source": [
    "#Definimos el conjunto de entrenamiento y testing\n",
    "X_train, X_test, Y_train, Y_test = train_test_split(X, Y, test_size= 0.2)"
   ]
  },
  {
   "cell_type": "code",
   "execution_count": 33,
   "id": "ed098372",
   "metadata": {},
   "outputs": [],
   "source": [
    "clf = neighbors.KNeighborsClassifier()"
   ]
  },
  {
   "cell_type": "code",
   "execution_count": 34,
   "id": "e0e70c2b",
   "metadata": {},
   "outputs": [
    {
     "data": {
      "text/plain": [
       "KNeighborsClassifier(algorithm='auto', leaf_size=30, metric='minkowski',\n",
       "                     metric_params=None, n_jobs=None, n_neighbors=5, p=2,\n",
       "                     weights='uniform')"
      ]
     },
     "execution_count": 34,
     "metadata": {},
     "output_type": "execute_result"
    }
   ],
   "source": [
    "clf.fit(X_train, Y_train)"
   ]
  },
  {
   "cell_type": "code",
   "execution_count": 35,
   "id": "c66bdc4b",
   "metadata": {},
   "outputs": [
    {
     "data": {
      "text/plain": [
       "0.9785714285714285"
      ]
     },
     "execution_count": 35,
     "metadata": {},
     "output_type": "execute_result"
    }
   ],
   "source": [
    "#Validacion para asegurarnos como de bien han funcionado (a partir del 95% -> tenemos 97%)\n",
    "accuracy = clf.score(X_test, Y_test)\n",
    "accuracy"
   ]
  },
  {
   "cell_type": "markdown",
   "id": "e4146ca1",
   "metadata": {},
   "source": [
    "Se puede clasificar si una celula es o no cancerigena con un 97% fiabilidad"
   ]
  },
  {
   "cell_type": "markdown",
   "id": "97d81d37",
   "metadata": {},
   "source": [
    "# Clasificación sin limpieza"
   ]
  },
  {
   "cell_type": "code",
   "execution_count": 18,
   "id": "02b5b3eb",
   "metadata": {},
   "outputs": [
    {
     "data": {
      "text/plain": [
       "0.6285714285714286"
      ]
     },
     "execution_count": 18,
     "metadata": {},
     "output_type": "execute_result"
    }
   ],
   "source": [
    "#Cargamos dataset sobre el cancer en wisconsin\n",
    "url = \"https://raw.githubusercontent.com/joanby/python-ml-course/master/datasets/cancer/breast-cancer-wisconsin.data.txt\"\n",
    "#como no tienen nombre las columnas quitamos el nombre de las columnas.\n",
    "df = pd.read_csv(url, header = None)\n",
    "\n",
    "#Reemplazamos los interrogantes por un numero que no se tenga en consideracion. (inplace=True) hace el reemplazo directamente\n",
    "df.replace(\"?\", -99999, inplace = True)\n",
    "\n",
    "#Renombreamos las columnas\n",
    "df.columns = [\"Id\", \"V1\", \"V2\", \"V3\", \"V4\", \"V5\", \"V6\", \"V7\", \"V8\", \"V9\", \"Class\"]\n",
    "\n",
    "Y = df[\"Class\"]\n",
    "cols = [\"Id\", \"V1\", \"V2\", \"V3\", \"V4\", \"V5\", \"V6\", \"V7\", \"V8\", \"V9\"]\n",
    "X = df[cols]\n",
    "\n",
    "#Definimos el conjunto de entrenamiento y testing\n",
    "X_train, X_test, Y_train, Y_test = train_test_split(X, Y, test_size= 0.2)\n",
    "\n",
    "clf = neighbors.KNeighborsClassifier()\n",
    "\n",
    "clf.fit(X_train, Y_train)\n",
    "\n",
    "#Validacion para asegurarnos como de bien han funcionado (a partir del 95% -> tenemos 97%)\n",
    "accuracy = clf.score(X_test, Y_test)\n",
    "accuracy"
   ]
  },
  {
   "cell_type": "markdown",
   "id": "c282e912",
   "metadata": {},
   "source": [
    "Ahora no eliminamos la columna \"Id\". Si añaden datos irrelevantes podemos observar que la fiabilidad baja hasta el 60%. "
   ]
  },
  {
   "cell_type": "markdown",
   "id": "44487ae2",
   "metadata": {},
   "source": [
    "# Calsificacion de nuevos datos"
   ]
  },
  {
   "cell_type": "code",
   "execution_count": 39,
   "id": "6a0c6dcd",
   "metadata": {},
   "outputs": [],
   "source": [
    "#Medidas inventadas para un nuevo paciente.\n",
    "sample_measure = np.array([4,2,1,1,1,2,3,2,1])\n",
    "sample_measure = sample_measure.reshape(1, -1)"
   ]
  },
  {
   "cell_type": "code",
   "execution_count": 41,
   "id": "9eaa8998",
   "metadata": {},
   "outputs": [
    {
     "data": {
      "text/plain": [
       "array([2], dtype=int64)"
      ]
     },
     "execution_count": 41,
     "metadata": {},
     "output_type": "execute_result"
    }
   ],
   "source": [
    "predict = clf.predict(sample_measure)\n",
    "predict"
   ]
  },
  {
   "cell_type": "markdown",
   "id": "42f94ffb",
   "metadata": {},
   "source": [
    "Para las entradas del paciente, se ha clasificado la celula de tipo 2 (benignos)"
   ]
  },
  {
   "cell_type": "code",
   "execution_count": 42,
   "id": "7a56bfc2",
   "metadata": {},
   "outputs": [],
   "source": [
    "# Caso para dos pacientes.\n",
    "sample_measure2 = np.array([[4,2,1,1,1,2,3,2,1],[4,2,1,1,1,2,3,2,1]]).reshape(2, -1)"
   ]
  },
  {
   "cell_type": "code",
   "execution_count": 43,
   "id": "03f366d9",
   "metadata": {},
   "outputs": [
    {
     "data": {
      "text/plain": [
       "array([2, 2], dtype=int64)"
      ]
     },
     "execution_count": 43,
     "metadata": {},
     "output_type": "execute_result"
    }
   ],
   "source": [
    "predict = clf.predict(sample_measure2)\n",
    "predict"
   ]
  },
  {
   "cell_type": "markdown",
   "id": "d5752870",
   "metadata": {},
   "source": [
    "Nos clasifica a los dos pacientes con el mismo tipo de celula cancerigena."
   ]
  },
  {
   "cell_type": "code",
   "execution_count": null,
   "id": "88e207f9",
   "metadata": {},
   "outputs": [],
   "source": []
  }
 ],
 "metadata": {
  "kernelspec": {
   "display_name": "Python 3",
   "language": "python",
   "name": "python3"
  },
  "language_info": {
   "codemirror_mode": {
    "name": "ipython",
    "version": 3
   },
   "file_extension": ".py",
   "mimetype": "text/x-python",
   "name": "python",
   "nbconvert_exporter": "python",
   "pygments_lexer": "ipython3",
   "version": "3.5.6"
  }
 },
 "nbformat": 4,
 "nbformat_minor": 5
}
