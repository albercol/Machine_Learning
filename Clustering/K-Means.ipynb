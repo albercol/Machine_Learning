{
 "cells": [
  {
   "cell_type": "markdown",
   "id": "4509a1cb-352d-4abb-a7bf-77fcdc079502",
   "metadata": {},
   "source": [
    "# El método de k-means"
   ]
  },
  {
   "cell_type": "code",
   "execution_count": 1,
   "id": "72af556f-3340-4a44-ba8e-c569ed35272d",
   "metadata": {},
   "outputs": [],
   "source": [
    "import numpy as np"
   ]
  },
  {
   "cell_type": "code",
   "execution_count": 2,
   "id": "47bb7165-cfe2-4ec3-adaf-c3b7b86a378a",
   "metadata": {},
   "outputs": [
    {
     "data": {
      "text/plain": [
       "array([[0.77364405, 0.87196049, 0.59808728],\n",
       "       [0.29353354, 0.10393332, 0.28942597],\n",
       "       [0.28961742, 0.04730743, 0.96015552],\n",
       "       [0.32570184, 0.96574236, 0.98904743],\n",
       "       [0.05292151, 0.58943251, 0.68877895],\n",
       "       [0.22502113, 0.41957581, 0.67797525],\n",
       "       [0.35137135, 0.34641843, 0.52325857],\n",
       "       [0.30352432, 0.08681051, 0.25672226],\n",
       "       [0.20242592, 0.73100997, 0.67008457],\n",
       "       [0.79225083, 0.95256206, 0.52399524],\n",
       "       [0.2545336 , 0.54981461, 0.01137414],\n",
       "       [0.80114147, 0.57686426, 0.88871256],\n",
       "       [0.30947217, 0.7650581 , 0.19836746],\n",
       "       [0.0593685 , 0.42230059, 0.74674431],\n",
       "       [0.01489533, 0.89417102, 0.43945091],\n",
       "       [0.10312596, 0.3480241 , 0.40401502],\n",
       "       [0.9802576 , 0.25282712, 0.08761001],\n",
       "       [0.51922567, 0.68911353, 0.03413567],\n",
       "       [0.74501249, 0.27496087, 0.41658904],\n",
       "       [0.26014883, 0.45776911, 0.33353587],\n",
       "       [0.85588265, 0.31627129, 0.46467753],\n",
       "       [0.1260018 , 0.54923214, 0.84172246],\n",
       "       [0.55144461, 0.67939462, 0.95041834],\n",
       "       [0.40507967, 0.02251705, 0.37045352],\n",
       "       [0.72719834, 0.13114452, 0.47833349],\n",
       "       [0.6311693 , 0.34079617, 0.44478263],\n",
       "       [0.17197045, 0.17708848, 0.57018995],\n",
       "       [0.2277578 , 0.43978954, 0.23504054],\n",
       "       [0.57367073, 0.94990247, 0.11420854],\n",
       "       [0.24082248, 0.56956929, 0.91772324]])"
      ]
     },
     "execution_count": 2,
     "metadata": {},
     "output_type": "execute_result"
    }
   ],
   "source": [
    "data = np.random.random(90).reshape(30,3)\n",
    "data"
   ]
  },
  {
   "cell_type": "code",
   "execution_count": 3,
   "id": "4eef8221-05a8-457d-8cda-f08e8aaa3626",
   "metadata": {},
   "outputs": [
    {
     "data": {
      "text/plain": [
       "array([[0.05292151, 0.58943251, 0.68877895],\n",
       "       [0.01489533, 0.89417102, 0.43945091]])"
      ]
     },
     "execution_count": 3,
     "metadata": {},
     "output_type": "execute_result"
    }
   ],
   "source": [
    "c1 = np.random.choice(range(len(data)))\n",
    "c2 = np.random.choice(range(len(data)))\n",
    "clust_centers = np.vstack([data[c1], data[c2]])\n",
    "clust_centers"
   ]
  },
  {
   "cell_type": "code",
   "execution_count": 4,
   "id": "8f7ebe08-f11d-449b-b690-6c03c18652c2",
   "metadata": {},
   "outputs": [],
   "source": [
    "from scipy.cluster.vq import vq"
   ]
  },
  {
   "cell_type": "code",
   "execution_count": 5,
   "id": "4eba72f1-d2bf-45d6-bf11-cd3556de22bf",
   "metadata": {},
   "outputs": [
    {
     "data": {
      "text/plain": [
       "(array([1, 0, 0, 0, 0, 0, 0, 0, 0, 1, 1, 0, 1, 0, 1, 0, 0, 1, 0, 0, 0, 0,\n",
       "        0, 0, 0, 0, 0, 0, 1, 0]),\n",
       " array([0.77547303, 0.67311694, 0.65082241, 0.55333477, 0.        ,\n",
       "        0.24204607, 0.41895721, 0.70859271, 0.20674918, 0.78411659,\n",
       "        0.59938099, 0.77457376, 0.40195384, 0.17701589, 0.        ,\n",
       "        0.37668157, 1.15527465, 0.67873273, 0.80744639, 0.43182873,\n",
       "        0.87725999, 0.17420826, 0.57015229, 0.73941841, 0.84200025,\n",
       "        0.67507387, 0.44526801, 0.5087625 , 0.64893647, 0.29684476]))"
      ]
     },
     "execution_count": 5,
     "metadata": {},
     "output_type": "execute_result"
    }
   ],
   "source": [
    "clusters = vq(data, clust_centers)\n",
    "clusters"
   ]
  },
  {
   "cell_type": "code",
   "execution_count": 6,
   "id": "b305c4ef-24c8-4634-87da-725cfab6f104",
   "metadata": {},
   "outputs": [
    {
     "data": {
      "text/plain": [
       "array([1, 0, 0, 0, 0, 0, 0, 0, 0, 1, 1, 0, 1, 0, 1, 0, 0, 1, 0, 0, 0, 0,\n",
       "       0, 0, 0, 0, 0, 0, 1, 0])"
      ]
     },
     "execution_count": 6,
     "metadata": {},
     "output_type": "execute_result"
    }
   ],
   "source": [
    "labels = clusters[0]\n",
    "labels"
   ]
  },
  {
   "cell_type": "code",
   "execution_count": 8,
   "id": "75771ea9-294b-4d25-b7f1-85bdcb3a5124",
   "metadata": {},
   "outputs": [
    {
     "name": "stdout",
     "output_type": "stream",
     "text": [
      "Collecting chart_studio\n",
      "  Using cached chart_studio-1.1.0-py3-none-any.whl (64 kB)\n",
      "Collecting retrying>=1.3.3\n",
      "  Using cached retrying-1.3.3.tar.gz (10 kB)\n",
      "  Preparing metadata (setup.py): started\n",
      "  Preparing metadata (setup.py): finished with status 'done'\n",
      "Collecting plotly\n",
      "  Downloading plotly-5.6.0-py2.py3-none-any.whl (27.7 MB)\n",
      "     --------------------------------------- 27.7/27.7 MB 19.3 MB/s eta 0:00:00\n",
      "Requirement already satisfied: requests in c:\\users\\alberto\\anaconda3\\lib\\site-packages (from chart_studio) (2.26.0)\n",
      "Requirement already satisfied: six in c:\\users\\alberto\\anaconda3\\lib\\site-packages (from chart_studio) (1.16.0)\n",
      "Collecting tenacity>=6.2.0\n",
      "  Downloading tenacity-8.0.1-py3-none-any.whl (24 kB)\n",
      "Requirement already satisfied: certifi>=2017.4.17 in c:\\users\\alberto\\anaconda3\\lib\\site-packages (from requests->chart_studio) (2021.10.8)\n",
      "Requirement already satisfied: charset-normalizer~=2.0.0 in c:\\users\\alberto\\anaconda3\\lib\\site-packages (from requests->chart_studio) (2.0.4)\n",
      "Requirement already satisfied: idna<4,>=2.5 in c:\\users\\alberto\\anaconda3\\lib\\site-packages (from requests->chart_studio) (3.2)\n",
      "Requirement already satisfied: urllib3<1.27,>=1.21.1 in c:\\users\\alberto\\anaconda3\\lib\\site-packages (from requests->chart_studio) (1.26.7)\n",
      "Building wheels for collected packages: retrying\n",
      "  Building wheel for retrying (setup.py): started\n",
      "  Building wheel for retrying (setup.py): finished with status 'done'\n",
      "  Created wheel for retrying: filename=retrying-1.3.3-py3-none-any.whl size=11448 sha256=e9ce14ea3665b334b81fd5d63d8d807f88436733ee8e43614c85187e0c1645a8\n",
      "  Stored in directory: c:\\users\\alberto\\appdata\\local\\pip\\cache\\wheels\\ce\\18\\7f\\e9527e3e66db1456194ac7f61eb3211068c409edceecff2d31\n",
      "Successfully built retrying\n",
      "Installing collected packages: tenacity, retrying, plotly, chart_studio\n",
      "Successfully installed chart_studio-1.1.0 plotly-5.6.0 retrying-1.3.3 tenacity-8.0.1\n"
     ]
    }
   ],
   "source": [
    "!pip install chart_studio\n",
    "import chart_studio.plotly as py\n",
    "import plotly.graph_objects as go \n",
    "import plotly.graph_objects as go\n",
    "import plotly.offline as ply"
   ]
  },
  {
   "cell_type": "code",
   "execution_count": 9,
   "id": "4357dab9-4e06-4fb8-ad93-e8007746968f",
   "metadata": {},
   "outputs": [
    {
     "data": {
      "text/plain": [
       "'Clusters.html'"
      ]
     },
     "execution_count": 9,
     "metadata": {},
     "output_type": "execute_result"
    }
   ],
   "source": [
    "x = []\n",
    "y = []\n",
    "z = []\n",
    "x2 = []\n",
    "y2 = []\n",
    "z2 = []\n",
    "\n",
    "for i in range(0, len(labels)):\n",
    "    if(labels[i] == 0):\n",
    "        x.append(data[i,0])\n",
    "        y.append(data[i,1])\n",
    "        z.append(data[i,2])\n",
    "        \n",
    "    else:\n",
    "        x2.append(data[i,0])\n",
    "        y2.append(data[i,1])\n",
    "        z2.append(data[i,2])\n",
    "\n",
    "cluster1 = go.Scatter3d(\n",
    "    x=x,\n",
    "    y=y,\n",
    "    z=z,\n",
    "    mode='markers',\n",
    "    marker=dict(\n",
    "        size=12,\n",
    "        line=dict(\n",
    "            color='rgba(217, 217, 217, 0.14)',\n",
    "            width=0.5\n",
    "        ),\n",
    "        opacity=0.9\n",
    "    ),\n",
    "    name=\"Cluster 0\"\n",
    ")\n",
    "\n",
    "\n",
    "cluster2 = go.Scatter3d(\n",
    "    x=x2,\n",
    "    y=y2,\n",
    "    z=z2,\n",
    "    mode='markers',\n",
    "    marker=dict(\n",
    "        color='rgb(127, 127, 127)',\n",
    "        size=12,\n",
    "        symbol='circle',\n",
    "        line=dict(\n",
    "            color='rgb(204, 204, 204)',\n",
    "            width=1\n",
    "        ),\n",
    "        opacity=0.9\n",
    "    ),\n",
    "    name=\"Cluster 1\"\n",
    ")\n",
    "data2 = [cluster1, cluster2]\n",
    "layout = go.Layout(\n",
    "    margin=dict(\n",
    "        l=0,\n",
    "        r=0,\n",
    "        b=0,\n",
    "        t=30\n",
    "    )\n",
    ")\n",
    "\n",
    "fig = go.Figure(data=data2, layout=layout)\n",
    "ply.plot(fig, filename='Clusters.html')"
   ]
  },
  {
   "cell_type": "code",
   "execution_count": 10,
   "id": "48aa2d79-de98-4d2b-86a2-f535cf42dbe1",
   "metadata": {},
   "outputs": [],
   "source": [
    "from scipy.cluster.vq import kmeans"
   ]
  },
  {
   "cell_type": "code",
   "execution_count": 11,
   "id": "86234966-4131-4ac0-a669-72994a9b66d3",
   "metadata": {},
   "outputs": [
    {
     "data": {
      "text/plain": [
       "(array([[0.38828256, 0.38472954, 0.57417378],\n",
       "        [0.46252748, 0.8103689 , 0.27423132]]),\n",
       " 0.400601972705352)"
      ]
     },
     "execution_count": 11,
     "metadata": {},
     "output_type": "execute_result"
    }
   ],
   "source": [
    "kmeans(data, clust_centers)"
   ]
  },
  {
   "cell_type": "code",
   "execution_count": 12,
   "id": "33b201eb-71e0-42af-9247-ff5809f27846",
   "metadata": {},
   "outputs": [
    {
     "data": {
      "text/plain": [
       "(array([[0.54471525, 0.45158408, 0.34829502],\n",
       "        [0.19694308, 0.53273736, 0.7380255 ]]),\n",
       " 0.37718599675048464)"
      ]
     },
     "execution_count": 12,
     "metadata": {},
     "output_type": "execute_result"
    }
   ],
   "source": [
    "kmeans(data, 2)"
   ]
  }
 ],
 "metadata": {
  "kernelspec": {
   "display_name": "Python 3 (ipykernel)",
   "language": "python",
   "name": "python3"
  },
  "language_info": {
   "codemirror_mode": {
    "name": "ipython",
    "version": 3
   },
   "file_extension": ".py",
   "mimetype": "text/x-python",
   "name": "python",
   "nbconvert_exporter": "python",
   "pygments_lexer": "ipython3",
   "version": "3.9.7"
  }
 },
 "nbformat": 4,
 "nbformat_minor": 5
}
