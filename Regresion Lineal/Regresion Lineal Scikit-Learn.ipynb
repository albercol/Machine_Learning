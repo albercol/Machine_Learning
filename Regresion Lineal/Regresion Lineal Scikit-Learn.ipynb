{
 "cells": [
  {
   "cell_type": "markdown",
   "id": "c925a4e3-9ec8-4d8e-af60-59cb2b068de5",
   "metadata": {},
   "source": [
    "# Regresión lineal Python\n",
    "* El paquete scikit-learn para regresion lineal y seleccion de rasgos"
   ]
  },
  {
   "cell_type": "code",
   "execution_count": 3,
   "id": "1a08c9de-aa4a-4ef4-91b3-e443ea1aaaaa",
   "metadata": {},
   "outputs": [],
   "source": [
    "import pandas as pd\n",
    "import numpy as np\n",
    "from sklearn.feature_selection import RFE\n",
    "from sklearn.svm import SVR"
   ]
  },
  {
   "cell_type": "code",
   "execution_count": 4,
   "id": "6c9514c2-81ac-43fa-b358-2191d6f00a91",
   "metadata": {},
   "outputs": [
    {
     "data": {
      "text/html": [
       "<div>\n",
       "<style scoped>\n",
       "    .dataframe tbody tr th:only-of-type {\n",
       "        vertical-align: middle;\n",
       "    }\n",
       "\n",
       "    .dataframe tbody tr th {\n",
       "        vertical-align: top;\n",
       "    }\n",
       "\n",
       "    .dataframe thead th {\n",
       "        text-align: right;\n",
       "    }\n",
       "</style>\n",
       "<table border=\"1\" class=\"dataframe\">\n",
       "  <thead>\n",
       "    <tr style=\"text-align: right;\">\n",
       "      <th></th>\n",
       "      <th>TV</th>\n",
       "      <th>Radio</th>\n",
       "      <th>Newspaper</th>\n",
       "      <th>Sales</th>\n",
       "    </tr>\n",
       "  </thead>\n",
       "  <tbody>\n",
       "    <tr>\n",
       "      <th>0</th>\n",
       "      <td>230.1</td>\n",
       "      <td>37.8</td>\n",
       "      <td>69.2</td>\n",
       "      <td>22.1</td>\n",
       "    </tr>\n",
       "    <tr>\n",
       "      <th>1</th>\n",
       "      <td>44.5</td>\n",
       "      <td>39.3</td>\n",
       "      <td>45.1</td>\n",
       "      <td>10.4</td>\n",
       "    </tr>\n",
       "    <tr>\n",
       "      <th>2</th>\n",
       "      <td>17.2</td>\n",
       "      <td>45.9</td>\n",
       "      <td>69.3</td>\n",
       "      <td>9.3</td>\n",
       "    </tr>\n",
       "    <tr>\n",
       "      <th>3</th>\n",
       "      <td>151.5</td>\n",
       "      <td>41.3</td>\n",
       "      <td>58.5</td>\n",
       "      <td>18.5</td>\n",
       "    </tr>\n",
       "    <tr>\n",
       "      <th>4</th>\n",
       "      <td>180.8</td>\n",
       "      <td>10.8</td>\n",
       "      <td>58.4</td>\n",
       "      <td>12.9</td>\n",
       "    </tr>\n",
       "  </tbody>\n",
       "</table>\n",
       "</div>"
      ],
      "text/plain": [
       "      TV  Radio  Newspaper  Sales\n",
       "0  230.1   37.8       69.2   22.1\n",
       "1   44.5   39.3       45.1   10.4\n",
       "2   17.2   45.9       69.3    9.3\n",
       "3  151.5   41.3       58.5   18.5\n",
       "4  180.8   10.8       58.4   12.9"
      ]
     },
     "execution_count": 4,
     "metadata": {},
     "output_type": "execute_result"
    }
   ],
   "source": [
    "data = pd.read_csv(\"https://raw.githubusercontent.com/joanby/python-ml-course/master/datasets/ads/Advertising.csv\")\n",
    "data.head()"
   ]
  },
  {
   "cell_type": "code",
   "execution_count": 6,
   "id": "51da3b4d-99d8-4e7b-b799-e33f90b44dad",
   "metadata": {},
   "outputs": [],
   "source": [
    "colsX = [\"TV\", \"Radio\", \"Newspaper\"] #Columnas de prediccion"
   ]
  },
  {
   "cell_type": "code",
   "execution_count": 8,
   "id": "ea4e2882-be39-40a7-9a70-1390ad172a37",
   "metadata": {},
   "outputs": [],
   "source": [
    "X = data[colsX]\n",
    "Y = data[\"Sales\"]"
   ]
  },
  {
   "cell_type": "code",
   "execution_count": 11,
   "id": "f84060bf-242f-4961-9217-e129d0cc8173",
   "metadata": {},
   "outputs": [],
   "source": [
    "#Queremos estimar un modelo lineal\n",
    "estimator = SVR(kernel=\"linear\")\n",
    "\n",
    "#RFE(estimador, numeroDeseadoDeVariables, pasos)\n",
    "selector = RFE(estimator, 2, step=1)\n",
    "selector = selector.fit(X, Y)"
   ]
  },
  {
   "cell_type": "code",
   "execution_count": 12,
   "id": "e0763774-a4be-49ff-9e59-a8a6f138250e",
   "metadata": {},
   "outputs": [
    {
     "data": {
      "text/plain": [
       "array([ True,  True, False])"
      ]
     },
     "execution_count": 12,
     "metadata": {},
     "output_type": "execute_result"
    }
   ],
   "source": [
    "selector.support_"
   ]
  },
  {
   "cell_type": "markdown",
   "id": "c2d5f13d-87e0-4231-a455-e66fd5a9951c",
   "metadata": {},
   "source": [
    "###### Array que nos indica que variables son seleccionadas (de colsX) para entrenar el modelo.\n",
    "###### En nuestro caso seran TV y Radio dado que Newspaper esta a false."
   ]
  },
  {
   "cell_type": "code",
   "execution_count": 13,
   "id": "a1555591-f1f4-430c-affe-7b00acbc696d",
   "metadata": {},
   "outputs": [
    {
     "data": {
      "text/plain": [
       "array([1, 1, 2])"
      ]
     },
     "execution_count": 13,
     "metadata": {},
     "output_type": "execute_result"
    }
   ],
   "source": [
    "selector.ranking_"
   ]
  },
  {
   "cell_type": "markdown",
   "id": "758b3212-4259-461c-b425-1f1ba920962d",
   "metadata": {},
   "source": [
    "###### Las variables seleccionadas siempren aparecen con rango 1, de ahi el resto aparecen con otros números rango 2 mas significativa que rango 3, 4, 5..."
   ]
  },
  {
   "cell_type": "code",
   "execution_count": 14,
   "id": "53222883-a025-400d-9024-ea8528944aab",
   "metadata": {},
   "outputs": [],
   "source": [
    "from sklearn.linear_model import LinearRegression"
   ]
  },
  {
   "cell_type": "code",
   "execution_count": 16,
   "id": "5be396c5-1756-47ff-831a-d877be0034a2",
   "metadata": {},
   "outputs": [],
   "source": [
    "X_pred = X[[\"TV\",\"Radio\"]]"
   ]
  },
  {
   "cell_type": "code",
   "execution_count": 17,
   "id": "7d87118c-b6cd-4b25-96d2-dccd4ed2da28",
   "metadata": {},
   "outputs": [
    {
     "data": {
      "text/plain": [
       "LinearRegression()"
      ]
     },
     "execution_count": 17,
     "metadata": {},
     "output_type": "execute_result"
    }
   ],
   "source": [
    "lm = LinearRegression()\n",
    "lm.fit(X_pred, Y)"
   ]
  },
  {
   "cell_type": "code",
   "execution_count": 18,
   "id": "01d1a7fe-228f-4314-b564-94671b8e93c3",
   "metadata": {},
   "outputs": [
    {
     "data": {
      "text/plain": [
       "2.9210999124051362"
      ]
     },
     "execution_count": 18,
     "metadata": {},
     "output_type": "execute_result"
    }
   ],
   "source": [
    "lm.intercept_ #Donde corta el eje. (alfa)"
   ]
  },
  {
   "cell_type": "code",
   "execution_count": 19,
   "id": "f0edab8d-f505-4fb4-aeb9-0130fd9a888b",
   "metadata": {},
   "outputs": [
    {
     "data": {
      "text/plain": [
       "array([0.04575482, 0.18799423])"
      ]
     },
     "execution_count": 19,
     "metadata": {},
     "output_type": "execute_result"
    }
   ],
   "source": [
    "lm.coef_ #Coeficientes"
   ]
  },
  {
   "cell_type": "code",
   "execution_count": 20,
   "id": "7ee0a7bf-c04a-445b-8271-d5131f806860",
   "metadata": {},
   "outputs": [
    {
     "data": {
      "text/plain": [
       "0.8971942610828956"
      ]
     },
     "execution_count": 20,
     "metadata": {},
     "output_type": "execute_result"
    }
   ],
   "source": [
    "lm.score(X_pred, Y) #Valor de r^2"
   ]
  }
 ],
 "metadata": {
  "kernelspec": {
   "display_name": "Python 3 (ipykernel)",
   "language": "python",
   "name": "python3"
  },
  "language_info": {
   "codemirror_mode": {
    "name": "ipython",
    "version": 3
   },
   "file_extension": ".py",
   "mimetype": "text/x-python",
   "name": "python",
   "nbconvert_exporter": "python",
   "pygments_lexer": "ipython3",
   "version": "3.9.7"
  }
 },
 "nbformat": 4,
 "nbformat_minor": 5
}
