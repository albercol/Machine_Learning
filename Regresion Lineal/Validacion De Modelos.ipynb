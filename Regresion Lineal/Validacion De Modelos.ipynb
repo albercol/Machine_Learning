{
 "cells": [
  {
   "cell_type": "markdown",
   "id": "75d5d0a7-2d5b-4363-991f-03fc220e9c39",
   "metadata": {},
   "source": [
    "## Dividir el dataset en conjunto de entrenamiento y testing"
   ]
  },
  {
   "cell_type": "code",
   "execution_count": 4,
   "id": "ddd6df81-fb4d-41a3-85be-149a1f62c564",
   "metadata": {},
   "outputs": [],
   "source": [
    "import pandas as pd\n",
    "import numpy as np\n",
    "import matplotlib.pyplot as plt"
   ]
  },
  {
   "cell_type": "code",
   "execution_count": 2,
   "id": "a1b7cd86-2f04-4f82-8bfc-619e64a15fb4",
   "metadata": {},
   "outputs": [
    {
     "data": {
      "text/html": [
       "<div>\n",
       "<style scoped>\n",
       "    .dataframe tbody tr th:only-of-type {\n",
       "        vertical-align: middle;\n",
       "    }\n",
       "\n",
       "    .dataframe tbody tr th {\n",
       "        vertical-align: top;\n",
       "    }\n",
       "\n",
       "    .dataframe thead th {\n",
       "        text-align: right;\n",
       "    }\n",
       "</style>\n",
       "<table border=\"1\" class=\"dataframe\">\n",
       "  <thead>\n",
       "    <tr style=\"text-align: right;\">\n",
       "      <th></th>\n",
       "      <th>TV</th>\n",
       "      <th>Radio</th>\n",
       "      <th>Newspaper</th>\n",
       "      <th>Sales</th>\n",
       "    </tr>\n",
       "  </thead>\n",
       "  <tbody>\n",
       "    <tr>\n",
       "      <th>0</th>\n",
       "      <td>230.1</td>\n",
       "      <td>37.8</td>\n",
       "      <td>69.2</td>\n",
       "      <td>22.1</td>\n",
       "    </tr>\n",
       "    <tr>\n",
       "      <th>1</th>\n",
       "      <td>44.5</td>\n",
       "      <td>39.3</td>\n",
       "      <td>45.1</td>\n",
       "      <td>10.4</td>\n",
       "    </tr>\n",
       "    <tr>\n",
       "      <th>2</th>\n",
       "      <td>17.2</td>\n",
       "      <td>45.9</td>\n",
       "      <td>69.3</td>\n",
       "      <td>9.3</td>\n",
       "    </tr>\n",
       "    <tr>\n",
       "      <th>3</th>\n",
       "      <td>151.5</td>\n",
       "      <td>41.3</td>\n",
       "      <td>58.5</td>\n",
       "      <td>18.5</td>\n",
       "    </tr>\n",
       "    <tr>\n",
       "      <th>4</th>\n",
       "      <td>180.8</td>\n",
       "      <td>10.8</td>\n",
       "      <td>58.4</td>\n",
       "      <td>12.9</td>\n",
       "    </tr>\n",
       "  </tbody>\n",
       "</table>\n",
       "</div>"
      ],
      "text/plain": [
       "      TV  Radio  Newspaper  Sales\n",
       "0  230.1   37.8       69.2   22.1\n",
       "1   44.5   39.3       45.1   10.4\n",
       "2   17.2   45.9       69.3    9.3\n",
       "3  151.5   41.3       58.5   18.5\n",
       "4  180.8   10.8       58.4   12.9"
      ]
     },
     "execution_count": 2,
     "metadata": {},
     "output_type": "execute_result"
    }
   ],
   "source": [
    "data = pd.read_csv(\"https://raw.githubusercontent.com/joanby/python-ml-course/master/datasets/ads/Advertising.csv\")\n",
    "data.head()"
   ]
  },
  {
   "cell_type": "code",
   "execution_count": 5,
   "id": "32594261-39c2-42e7-94a7-674e67c97882",
   "metadata": {},
   "outputs": [],
   "source": [
    "a= np.random.randn(len(data))"
   ]
  },
  {
   "cell_type": "code",
   "execution_count": 6,
   "id": "062f1bd5-9cfa-4985-a4c7-0f1a83720e25",
   "metadata": {},
   "outputs": [
    {
     "data": {
      "text/plain": [
       "(array([ 2.,  6., 13., 33., 50., 43., 25., 16.,  8.,  4.]),\n",
       " array([-2.70298618, -2.17193962, -1.64089306, -1.10984649, -0.57879993,\n",
       "        -0.04775337,  0.4832932 ,  1.01433976,  1.54538632,  2.07643289,\n",
       "         2.60747945]),\n",
       " <BarContainer object of 10 artists>)"
      ]
     },
     "execution_count": 6,
     "metadata": {},
     "output_type": "execute_result"
    },
    {
     "data": {
      "image/png": "[encoded data removed]",
      "text/plain": [
       "<Figure size 432x288 with 1 Axes>"
      ]
     },
     "metadata": {
      "needs_background": "light"
     },
     "output_type": "display_data"
    }
   ],
   "source": [
    "plt.hist(a)\n"
   ]
  },
  {
   "cell_type": "markdown",
   "id": "8daed51f-12b2-4651-b891-9d98420494f0",
   "metadata": {},
   "source": [
    "#### 80% para entrenar y 20% para validar"
   ]
  },
  {
   "cell_type": "code",
   "execution_count": 8,
   "id": "2efdcb42-53f6-46c4-9a5f-eb43643345d9",
   "metadata": {},
   "outputs": [],
   "source": [
    "check = (a<0.8)\n",
    "training = data[check]\n",
    "testing = data[~check]"
   ]
  },
  {
   "cell_type": "code",
   "execution_count": 9,
   "id": "b8ebb6ed-6987-4d29-9f20-fb1f46671769",
   "metadata": {},
   "outputs": [
    {
     "data": {
      "text/plain": [
       "(160, 40)"
      ]
     },
     "execution_count": 9,
     "metadata": {},
     "output_type": "execute_result"
    }
   ],
   "source": [
    "len(training), len(testing)"
   ]
  },
  {
   "cell_type": "code",
   "execution_count": 10,
   "id": "f26ac4b1-a1a7-423e-a2de-5c3965c8b5fe",
   "metadata": {},
   "outputs": [
    {
     "data": {
      "text/html": [
       "<table class=\"simpletable\">\n",
       "<caption>OLS Regression Results</caption>\n",
       "<tr>\n",
       "  <th>Dep. Variable:</th>          <td>Sales</td>      <th>  R-squared:         </th> <td>   0.913</td>\n",
       "</tr>\n",
       "<tr>\n",
       "  <th>Model:</th>                   <td>OLS</td>       <th>  Adj. R-squared:    </th> <td>   0.912</td>\n",
       "</tr>\n",
       "<tr>\n",
       "  <th>Method:</th>             <td>Least Squares</td>  <th>  F-statistic:       </th> <td>   825.1</td>\n",
       "</tr>\n",
       "<tr>\n",
       "  <th>Date:</th>             <td>Wed, 02 Mar 2022</td> <th>  Prob (F-statistic):</th> <td>5.05e-84</td>\n",
       "</tr>\n",
       "<tr>\n",
       "  <th>Time:</th>                 <td>17:44:17</td>     <th>  Log-Likelihood:    </th> <td> -295.51</td>\n",
       "</tr>\n",
       "<tr>\n",
       "  <th>No. Observations:</th>      <td>   160</td>      <th>  AIC:               </th> <td>   597.0</td>\n",
       "</tr>\n",
       "<tr>\n",
       "  <th>Df Residuals:</th>          <td>   157</td>      <th>  BIC:               </th> <td>   606.2</td>\n",
       "</tr>\n",
       "<tr>\n",
       "  <th>Df Model:</th>              <td>     2</td>      <th>                     </th>     <td> </td>   \n",
       "</tr>\n",
       "<tr>\n",
       "  <th>Covariance Type:</th>      <td>nonrobust</td>    <th>                     </th>     <td> </td>   \n",
       "</tr>\n",
       "</table>\n",
       "<table class=\"simpletable\">\n",
       "<tr>\n",
       "      <td></td>         <th>coef</th>     <th>std err</th>      <th>t</th>      <th>P>|t|</th>  <th>[0.025</th>    <th>0.975]</th>  \n",
       "</tr>\n",
       "<tr>\n",
       "  <th>Intercept</th> <td>    3.0168</td> <td>    0.302</td> <td>   10.000</td> <td> 0.000</td> <td>    2.421</td> <td>    3.613</td>\n",
       "</tr>\n",
       "<tr>\n",
       "  <th>TV</th>        <td>    0.0456</td> <td>    0.001</td> <td>   31.095</td> <td> 0.000</td> <td>    0.043</td> <td>    0.049</td>\n",
       "</tr>\n",
       "<tr>\n",
       "  <th>Radio</th>     <td>    0.1886</td> <td>    0.008</td> <td>   23.246</td> <td> 0.000</td> <td>    0.173</td> <td>    0.205</td>\n",
       "</tr>\n",
       "</table>\n",
       "<table class=\"simpletable\">\n",
       "<tr>\n",
       "  <th>Omnibus:</th>       <td>22.013</td> <th>  Durbin-Watson:     </th> <td>   1.931</td>\n",
       "</tr>\n",
       "<tr>\n",
       "  <th>Prob(Omnibus):</th> <td> 0.000</td> <th>  Jarque-Bera (JB):  </th> <td>  26.362</td>\n",
       "</tr>\n",
       "<tr>\n",
       "  <th>Skew:</th>          <td>-0.934</td> <th>  Prob(JB):          </th> <td>1.89e-06</td>\n",
       "</tr>\n",
       "<tr>\n",
       "  <th>Kurtosis:</th>      <td> 3.681</td> <th>  Cond. No.          </th> <td>    419.</td>\n",
       "</tr>\n",
       "</table><br/><br/>Notes:<br/>[1] Standard Errors assume that the covariance matrix of the errors is correctly specified."
      ],
      "text/plain": [
       "<class 'statsmodels.iolib.summary.Summary'>\n",
       "\"\"\"\n",
       "                            OLS Regression Results                            \n",
       "==============================================================================\n",
       "Dep. Variable:                  Sales   R-squared:                       0.913\n",
       "Model:                            OLS   Adj. R-squared:                  0.912\n",
       "Method:                 Least Squares   F-statistic:                     825.1\n",
       "Date:                Wed, 02 Mar 2022   Prob (F-statistic):           5.05e-84\n",
       "Time:                        17:44:17   Log-Likelihood:                -295.51\n",
       "No. Observations:                 160   AIC:                             597.0\n",
       "Df Residuals:                     157   BIC:                             606.2\n",
       "Df Model:                           2                                         \n",
       "Covariance Type:            nonrobust                                         \n",
       "==============================================================================\n",
       "                 coef    std err          t      P>|t|      [0.025      0.975]\n",
       "------------------------------------------------------------------------------\n",
       "Intercept      3.0168      0.302     10.000      0.000       2.421       3.613\n",
       "TV             0.0456      0.001     31.095      0.000       0.043       0.049\n",
       "Radio          0.1886      0.008     23.246      0.000       0.173       0.205\n",
       "==============================================================================\n",
       "Omnibus:                       22.013   Durbin-Watson:                   1.931\n",
       "Prob(Omnibus):                  0.000   Jarque-Bera (JB):               26.362\n",
       "Skew:                          -0.934   Prob(JB):                     1.89e-06\n",
       "Kurtosis:                       3.681   Cond. No.                         419.\n",
       "==============================================================================\n",
       "\n",
       "Notes:\n",
       "[1] Standard Errors assume that the covariance matrix of the errors is correctly specified.\n",
       "\"\"\""
      ]
     },
     "execution_count": 10,
     "metadata": {},
     "output_type": "execute_result"
    }
   ],
   "source": [
    "import statsmodels.formula.api as smf\n",
    "lm = smf.ols(formula=\"Sales~TV+Radio\", data=training).fit()\n",
    "lm.summary()\n",
    "\n",
    "#R-squared = 0.913 M\n",
    "#F-statistic 825.1 Muy alto\n",
    "#P valor (F-statistic): bajisimo e-84\n",
    "# coef son buenos. (bajitos.)"
   ]
  },
  {
   "cell_type": "markdown",
   "id": "c1a40835-d9ff-4888-97b5-120a43c3f808",
   "metadata": {},
   "source": [
    "### Sales = 3.0168 + 0.0456 * TV + 0.1886 * Radio"
   ]
  },
  {
   "cell_type": "markdown",
   "id": "805e76a3-8a2b-4f15-abd9-94244f8589d2",
   "metadata": {},
   "source": [
    "# Validacion del modelo con el conjunto de testing"
   ]
  },
  {
   "cell_type": "code",
   "execution_count": 11,
   "id": "52da8668-4768-4e30-88d0-3a868e5da44a",
   "metadata": {},
   "outputs": [
    {
     "data": {
      "text/plain": [
       "9      12.627803\n",
       "10      7.128299\n",
       "16     13.016008\n",
       "19     14.249306\n",
       "23     16.626323\n",
       "24      8.237587\n",
       "31     11.452852\n",
       "33     18.913781\n",
       "35     17.060175\n",
       "39     20.536337\n",
       "44      9.010660\n",
       "47     21.796381\n",
       "51      9.410860\n",
       "52     20.761379\n",
       "54     20.441432\n",
       "67     12.110907\n",
       "71     10.726560\n",
       "81     14.736687\n",
       "101    23.394572\n",
       "108     3.690295\n",
       "110    14.871036\n",
       "113    16.470671\n",
       "125     9.223313\n",
       "127     6.677826\n",
       "128    22.316477\n",
       "130    10.518940\n",
       "132     8.531296\n",
       "134    11.982761\n",
       "138     9.865489\n",
       "146    15.354028\n",
       "160    14.305527\n",
       "162    15.031332\n",
       "166    10.926807\n",
       "168    17.301350\n",
       "169    17.994186\n",
       "171    14.468534\n",
       "172     7.703212\n",
       "184    18.620365\n",
       "190    12.573046\n",
       "197    12.850913\n",
       "dtype: float64"
      ]
     },
     "execution_count": 11,
     "metadata": {},
     "output_type": "execute_result"
    }
   ],
   "source": [
    "sales_pred = lm.predict(testing)\n",
    "sales_pred"
   ]
  },
  {
   "cell_type": "code",
   "execution_count": 13,
   "id": "2bc5589f-18c7-40b3-894d-501d472df042",
   "metadata": {},
   "outputs": [
    {
     "data": {
      "text/plain": [
       "182.1701373360319"
      ]
     },
     "execution_count": 13,
     "metadata": {},
     "output_type": "execute_result"
    }
   ],
   "source": [
    "SSD = sum((testing[\"Sales\"]-sales_pred)**2)\n",
    "SSD"
   ]
  },
  {
   "cell_type": "code",
   "execution_count": 14,
   "id": "66bd8a27-d265-498f-bf51-8baf04bf4f34",
   "metadata": {},
   "outputs": [
    {
     "data": {
      "text/plain": [
       "2.2189000034472395"
      ]
     },
     "execution_count": 14,
     "metadata": {},
     "output_type": "execute_result"
    }
   ],
   "source": [
    "RSE = np.sqrt(SSD/(len(testing)-2-1))\n",
    "RSE"
   ]
  },
  {
   "cell_type": "code",
   "execution_count": 16,
   "id": "1ae6230b-dc13-45ec-8f43-de0a12452131",
   "metadata": {},
   "outputs": [
    {
     "data": {
      "text/plain": [
       "0.16605425657229106"
      ]
     },
     "execution_count": 16,
     "metadata": {},
     "output_type": "execute_result"
    }
   ],
   "source": [
    "#Proporcion respecto al promedio de ventas\n",
    "sales_mean = np.mean(testing[\"Sales\"])\n",
    "error = RSE/sales_mean\n",
    "error"
   ]
  },
  {
   "cell_type": "code",
   "execution_count": null,
   "id": "0187f0b8-4d5f-4676-a612-031538248022",
   "metadata": {},
   "outputs": [],
   "source": []
  }
 ],
 "metadata": {
  "kernelspec": {
   "display_name": "Python 3 (ipykernel)",
   "language": "python",
   "name": "python3"
  },
  "language_info": {
   "codemirror_mode": {
    "name": "ipython",
    "version": 3
   },
   "file_extension": ".py",
   "mimetype": "text/x-python",
   "name": "python",
   "nbconvert_exporter": "python",
   "pygments_lexer": "ipython3",
   "version": "3.9.7"
  }
 },
 "nbformat": 4,
 "nbformat_minor": 5
}
