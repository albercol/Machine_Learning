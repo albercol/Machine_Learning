{
 "cells": [
  {
   "cell_type": "markdown",
   "id": "374fb5a3",
   "metadata": {},
   "source": [
    "# Analisis de Componentes Principales SKlearn"
   ]
  },
  {
   "cell_type": "code",
   "execution_count": 1,
   "id": "fad182e9",
   "metadata": {},
   "outputs": [],
   "source": [
    "import pandas as pd\n",
    "import chart_studio.plotly as py\n",
    "import plotly.graph_objects as go\n",
    "import chart_studio\n",
    "from sklearn.preprocessing import StandardScaler\n",
    "\n",
    "chart_studio.tools.set_credentials_file(username='albercol', api_key='EumAP9GRQHmkrue75wsz')"
   ]
  },
  {
   "cell_type": "code",
   "execution_count": 2,
   "id": "649466ba",
   "metadata": {},
   "outputs": [],
   "source": [
    "df = pd.read_csv(\"https://raw.githubusercontent.com/joanby/python-ml-course/master/datasets/iris/iris.csv\")"
   ]
  },
  {
   "cell_type": "code",
   "execution_count": 13,
   "id": "70849dc3",
   "metadata": {},
   "outputs": [],
   "source": [
    "X = df.iloc[:,0:4].values\n",
    "y = df.iloc[:,4].values\n",
    "x_std = StandardScaler().fit_transform(X)"
   ]
  },
  {
   "cell_type": "code",
   "execution_count": 14,
   "id": "1df5e474",
   "metadata": {},
   "outputs": [],
   "source": [
    "from sklearn.decomposition import PCA as sk_pca"
   ]
  },
  {
   "cell_type": "code",
   "execution_count": 15,
   "id": "5f8ceb72",
   "metadata": {},
   "outputs": [],
   "source": [
    "acp = sk_pca(n_components=2)\n",
    "Y = acp.fit_transform(x_std)"
   ]
  },
  {
   "cell_type": "code",
   "execution_count": 16,
   "id": "c20efcb4",
   "metadata": {},
   "outputs": [
    {
     "data": {
      "text/html": [
       "\n",
       "        <iframe\n",
       "            width=\"100%\"\n",
       "            height=\"525px\"\n",
       "            src=\"https://plotly.com/~albercol/13.embed\"\n",
       "            frameborder=\"0\"\n",
       "            allowfullscreen\n",
       "        ></iframe>\n",
       "        "
      ],
      "text/plain": [
       "<IPython.lib.display.IFrame at 0x1f567704ac8>"
      ]
     },
     "execution_count": 16,
     "metadata": {},
     "output_type": "execute_result"
    }
   ],
   "source": [
    "results = []\n",
    "\n",
    "for name in ('setosa', 'versicolor', 'virginica'):\n",
    "    result = go.Scatter (x = Y[y==name,0], y = Y[y==name,1],\n",
    "    mode = \"markers\", name = name, marker = {\"size\":8, \"line\": {\"color\": \"rgba(225,225,225,0.2)\",\"width\": 0.5}}, opacity= 0.75)\n",
    "    results.append(result)\n",
    "\n",
    "layout = go.Layout(xaxis = {\"title\":'CP1', \"showline\" :False, \"zerolinecolor\" : \"gray\"}, yaxis = {\"title\" :'CP2', \"showline\" :False, \"zerolinecolor\" : \"gray\"})\n",
    "\n",
    "fig = go.Figure(data=results, layout=layout)\n",
    "py.iplot(fig)\n",
    "#fig.show()"
   ]
  }
 ],
 "metadata": {
  "kernelspec": {
   "display_name": "Python 3",
   "language": "python",
   "name": "python3"
  },
  "language_info": {
   "codemirror_mode": {
    "name": "ipython",
    "version": 3
   },
   "file_extension": ".py",
   "mimetype": "text/x-python",
   "name": "python",
   "nbconvert_exporter": "python",
   "pygments_lexer": "ipython3",
   "version": "3.5.6"
  }
 },
 "nbformat": 4,
 "nbformat_minor": 5
}
