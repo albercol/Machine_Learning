{
 "cells": [
  {
   "cell_type": "markdown",
   "id": "d6645530",
   "metadata": {},
   "source": [
    "## Graficos con plotly"
   ]
  },
  {
   "cell_type": "code",
   "execution_count": 3,
   "id": "c6f2b55e",
   "metadata": {},
   "outputs": [],
   "source": [
    "import pandas as pd\n",
    "import chart_studio.plotly as py\n",
    "import plotly.graph_objects as go\n",
    "import chart_studio\n",
    "from sklearn.preprocessing import StandardScaler\n",
    "import numpy as np\n",
    "\n",
    "chart_studio.tools.set_credentials_file(username='albercol', api_key='EumAP9GRQHmkrue75wsz')"
   ]
  },
  {
   "cell_type": "code",
   "execution_count": 4,
   "id": "1aeb5190",
   "metadata": {},
   "outputs": [],
   "source": [
    "N = 200\n",
    "rand_x = np.linspace(0,1, N)\n",
    "rand_y0 = np.random.randn(N) + 3\n",
    "rand_y1 = np.random.randn(N)\n",
    "rand_y2 = np.random.randn(N) - 3"
   ]
  },
  {
   "cell_type": "code",
   "execution_count": 5,
   "id": "22aa4f97",
   "metadata": {},
   "outputs": [],
   "source": [
    "trace0 = go.Scatter(x = rand_x, y = rand_y0, mode=\"markers\", name=\"Puntos\")\n",
    "trace1 = go.Scatter(x = rand_x, y = rand_y1, mode=\"lines\", name=\"Líneas\")\n",
    "trace2 = go.Scatter(x = rand_x, y = rand_y2, mode=\"lines+markers\", name=\"Puntos y líneas\")\n",
    "data = [trace0, trace1, trace2]"
   ]
  },
  {
   "cell_type": "code",
   "execution_count": 6,
   "id": "c7e09e1d",
   "metadata": {},
   "outputs": [
    {
     "data": {
      "text/html": [
       "\n",
       "        <iframe\n",
       "            width=\"100%\"\n",
       "            height=\"525px\"\n",
       "            src=\"https://plotly.com/~albercol/15.embed\"\n",
       "            frameborder=\"0\"\n",
       "            allowfullscreen\n",
       "        ></iframe>\n",
       "        "
      ],
      "text/plain": [
       "<IPython.lib.display.IFrame at 0x228370bf668>"
      ]
     },
     "execution_count": 6,
     "metadata": {},
     "output_type": "execute_result"
    }
   ],
   "source": [
    "py.iplot(data, filename = \"scatter-line-plot\")"
   ]
  },
  {
   "cell_type": "markdown",
   "id": "4a9baa45",
   "metadata": {},
   "source": [
    "## Estilizado de gráficos"
   ]
  },
  {
   "cell_type": "code",
   "execution_count": 13,
   "id": "c38fa223",
   "metadata": {},
   "outputs": [],
   "source": [
    "N = 2000\n",
    "random_x = np.random.randn(N)\n",
    "random_y = np.random.randn(N)\n",
    "\n",
    "trace = go.Scatter(x = random_x, y = random_y, name = \"Puntos de estilo guay\", mode=\"markers\",\n",
    "                  marker = dict(size = 12, color = \"rgba(140,20,20,0.8)\", line = dict(width=2, color=\"rgb(10,10,10)\")))"
   ]
  },
  {
   "cell_type": "code",
   "execution_count": 14,
   "id": "b4a45b6e",
   "metadata": {},
   "outputs": [],
   "source": [
    "layout = dict(title = \"Scatter Plot Estilizado\", xaxis = dict(zeroline = False), yaxis = dict(zeroline=False))"
   ]
  },
  {
   "cell_type": "code",
   "execution_count": 15,
   "id": "b20f4829",
   "metadata": {},
   "outputs": [
    {
     "data": {
      "text/html": [
       "\n",
       "        <iframe\n",
       "            width=\"100%\"\n",
       "            height=\"525px\"\n",
       "            src=\"https://plotly.com/~albercol/19.embed\"\n",
       "            frameborder=\"0\"\n",
       "            allowfullscreen\n",
       "        ></iframe>\n",
       "        "
      ],
      "text/plain": [
       "<IPython.lib.display.IFrame at 0x22837042cc0>"
      ]
     },
     "execution_count": 15,
     "metadata": {},
     "output_type": "execute_result"
    }
   ],
   "source": [
    "fig = dict(data = [trace], layout = layout)\n",
    "py.iplot(fig)"
   ]
  },
  {
   "cell_type": "code",
   "execution_count": 19,
   "id": "9d14aabd",
   "metadata": {},
   "outputs": [
    {
     "data": {
      "text/html": [
       "\n",
       "        <iframe\n",
       "            width=\"100%\"\n",
       "            height=\"525px\"\n",
       "            src=\"https://plotly.com/~albercol/27.embed\"\n",
       "            frameborder=\"0\"\n",
       "            allowfullscreen\n",
       "        ></iframe>\n",
       "        "
      ],
      "text/plain": [
       "<IPython.lib.display.IFrame at 0x22837186860>"
      ]
     },
     "execution_count": 19,
     "metadata": {},
     "output_type": "execute_result"
    }
   ],
   "source": [
    "trace = go.Scatter(x = random_x, y = random_y, name = \"Puntos de estilo guay\", mode=\"markers\",\n",
    "                  marker = dict(size = 8, color = \"rgba(10,80,220,0.25)\", line = dict(width=1, color=\"rgb(10,10,80)\")))\n",
    "\n",
    "\n",
    "fig = dict(data = [trace], layout = layout)\n",
    "py.iplot(fig)"
   ]
  },
  {
   "cell_type": "code",
   "execution_count": 20,
   "id": "5d8aed23",
   "metadata": {},
   "outputs": [
    {
     "data": {
      "text/html": [
       "\n",
       "        <iframe\n",
       "            width=\"100%\"\n",
       "            height=\"525px\"\n",
       "            src=\"https://plotly.com/~albercol/29.embed\"\n",
       "            frameborder=\"0\"\n",
       "            allowfullscreen\n",
       "        ></iframe>\n",
       "        "
      ],
      "text/plain": [
       "<IPython.lib.display.IFrame at 0x228371cefd0>"
      ]
     },
     "execution_count": 20,
     "metadata": {},
     "output_type": "execute_result"
    }
   ],
   "source": [
    "trace = go.Box(x = random_x, name = \"Puntos de estilo guay\", fillcolor = \"rgba(180,25,95,0.6)\")\n",
    "\n",
    "\n",
    "fig = dict(data = [trace], layout = layout)\n",
    "py.iplot(fig,  filename = \"basic-scatter-inline\")"
   ]
  },
  {
   "cell_type": "code",
   "execution_count": 17,
   "id": "7283e992",
   "metadata": {},
   "outputs": [
    {
     "data": {
      "text/html": [
       "\n",
       "        <iframe\n",
       "            width=\"100%\"\n",
       "            height=\"525px\"\n",
       "            src=\"https://plotly.com/~albercol/23.embed\"\n",
       "            frameborder=\"0\"\n",
       "            allowfullscreen\n",
       "        ></iframe>\n",
       "        "
      ],
      "text/plain": [
       "<IPython.lib.display.IFrame at 0x22837186a20>"
      ]
     },
     "execution_count": 17,
     "metadata": {},
     "output_type": "execute_result"
    }
   ],
   "source": [
    "trace = go.Histogram(x = random_x, name = \"Puntos de estilo guay\")\n",
    "\n",
    "\n",
    "fig = dict(data = [trace], layout = layout)\n",
    "py.iplot(fig)"
   ]
  },
  {
   "cell_type": "markdown",
   "id": "469fdaa6",
   "metadata": {},
   "source": [
    "## Informacion al hacer hover"
   ]
  },
  {
   "cell_type": "code",
   "execution_count": 40,
   "id": "da35de5d",
   "metadata": {},
   "outputs": [
    {
     "data": {
      "text/html": [
       "<div>\n",
       "<style scoped>\n",
       "    .dataframe tbody tr th:only-of-type {\n",
       "        vertical-align: middle;\n",
       "    }\n",
       "\n",
       "    .dataframe tbody tr th {\n",
       "        vertical-align: top;\n",
       "    }\n",
       "\n",
       "    .dataframe thead th {\n",
       "        text-align: right;\n",
       "    }\n",
       "</style>\n",
       "<table border=\"1\" class=\"dataframe\">\n",
       "  <thead>\n",
       "    <tr style=\"text-align: right;\">\n",
       "      <th></th>\n",
       "      <th>Rank</th>\n",
       "      <th>State</th>\n",
       "      <th>Postal</th>\n",
       "      <th>Population</th>\n",
       "    </tr>\n",
       "  </thead>\n",
       "  <tbody>\n",
       "    <tr>\n",
       "      <th>0</th>\n",
       "      <td>1</td>\n",
       "      <td>Alabama</td>\n",
       "      <td>AL</td>\n",
       "      <td>4849377.0</td>\n",
       "    </tr>\n",
       "    <tr>\n",
       "      <th>1</th>\n",
       "      <td>2</td>\n",
       "      <td>Alaska</td>\n",
       "      <td>AK</td>\n",
       "      <td>736732.0</td>\n",
       "    </tr>\n",
       "    <tr>\n",
       "      <th>2</th>\n",
       "      <td>3</td>\n",
       "      <td>Arizona</td>\n",
       "      <td>AZ</td>\n",
       "      <td>6731484.0</td>\n",
       "    </tr>\n",
       "    <tr>\n",
       "      <th>3</th>\n",
       "      <td>4</td>\n",
       "      <td>Arkansas</td>\n",
       "      <td>AR</td>\n",
       "      <td>2966369.0</td>\n",
       "    </tr>\n",
       "    <tr>\n",
       "      <th>4</th>\n",
       "      <td>5</td>\n",
       "      <td>California</td>\n",
       "      <td>CA</td>\n",
       "      <td>38802500.0</td>\n",
       "    </tr>\n",
       "  </tbody>\n",
       "</table>\n",
       "</div>"
      ],
      "text/plain": [
       "   Rank       State Postal  Population\n",
       "0     1     Alabama     AL   4849377.0\n",
       "1     2      Alaska     AK    736732.0\n",
       "2     3     Arizona     AZ   6731484.0\n",
       "3     4    Arkansas     AR   2966369.0\n",
       "4     5  California     CA  38802500.0"
      ]
     },
     "execution_count": 40,
     "metadata": {},
     "output_type": "execute_result"
    }
   ],
   "source": [
    "import pandas as pd\n",
    "data = pd.read_csv(\"https://raw.githubusercontent.com/joanby/python-ml-course/master/datasets/usa-population/usa_states_population.csv\")\n",
    "data.head()"
   ]
  },
  {
   "cell_type": "code",
   "execution_count": 37,
   "id": "8f0495de",
   "metadata": {},
   "outputs": [],
   "source": [
    "N = 53\n",
    "c = ['hsl('+str(h)+', 50%, 50%)' for h in np.linspace(0,360,N)]"
   ]
  },
  {
   "cell_type": "code",
   "execution_count": 41,
   "id": "24858fb1",
   "metadata": {},
   "outputs": [],
   "source": [
    "l = []\n",
    "y = []\n",
    "for i in range(N):\n",
    "    y.append((2000+i))\n",
    "    trace0 = go.Scatter(\n",
    "        x = data[\"Rank\"], \n",
    "        y = data[\"Population\"]+ i*1000000,\n",
    "        mode = \"markers\",\n",
    "        marker = dict(size = 14, line = dict(width=1), color = c[i], opacity = 0.3),\n",
    "       # name = data[\"State\"]\n",
    "    )\n",
    "    l.append(trace0)"
   ]
  },
  {
   "cell_type": "code",
   "execution_count": 42,
   "id": "3f4fb2eb",
   "metadata": {},
   "outputs": [],
   "source": [
    "layout = go.Layout(title = \"Población de los estados de USA\",\n",
    "                  hovermode = \"closest\", \n",
    "                  xaxis = dict(title=\"ID\", ticklen=5, zeroline=False, gridwidth=2),\n",
    "                  yaxis = dict(title=\"Población\", ticklen=5, gridwidth=2),\n",
    "                  showlegend = False)"
   ]
  },
  {
   "cell_type": "code",
   "execution_count": 43,
   "id": "21f54512",
   "metadata": {},
   "outputs": [
    {
     "data": {
      "text/html": [
       "\n",
       "        <iframe\n",
       "            width=\"100%\"\n",
       "            height=\"525px\"\n",
       "            src=\"https://plotly.com/~albercol/29.embed\"\n",
       "            frameborder=\"0\"\n",
       "            allowfullscreen\n",
       "        ></iframe>\n",
       "        "
      ],
      "text/plain": [
       "<IPython.lib.display.IFrame at 0x228375bd278>"
      ]
     },
     "execution_count": 43,
     "metadata": {},
     "output_type": "execute_result"
    }
   ],
   "source": [
    "fig = go.Figure(data = l, layout = layout)\n",
    "py.iplot(fig, filename = \"basic-scatter-inline\")"
   ]
  },
  {
   "cell_type": "code",
   "execution_count": 44,
   "id": "a2ac22e4",
   "metadata": {},
   "outputs": [],
   "source": [
    "trace = go.Scatter(y = np.random.randn(1000),\n",
    "                  mode = \"markers\", marker = dict(size = 16, color = np.random.randn(1000), \n",
    "                                                  colorscale = \"Viridis\", showscale=True))"
   ]
  },
  {
   "cell_type": "code",
   "execution_count": 45,
   "id": "6f82789b",
   "metadata": {},
   "outputs": [
    {
     "data": {
      "text/html": [
       "\n",
       "        <iframe\n",
       "            width=\"100%\"\n",
       "            height=\"525px\"\n",
       "            src=\"https://plotly.com/~albercol/29.embed\"\n",
       "            frameborder=\"0\"\n",
       "            allowfullscreen\n",
       "        ></iframe>\n",
       "        "
      ],
      "text/plain": [
       "<IPython.lib.display.IFrame at 0x22836ee0208>"
      ]
     },
     "execution_count": 45,
     "metadata": {},
     "output_type": "execute_result"
    }
   ],
   "source": [
    "py.iplot([trace],  filename = \"basic-scatter-inline\")"
   ]
  },
  {
   "cell_type": "code",
   "execution_count": null,
   "id": "7814a309",
   "metadata": {},
   "outputs": [],
   "source": []
  }
 ],
 "metadata": {
  "kernelspec": {
   "display_name": "Python 3",
   "language": "python",
   "name": "python3"
  },
  "language_info": {
   "codemirror_mode": {
    "name": "ipython",
    "version": 3
   },
   "file_extension": ".py",
   "mimetype": "text/x-python",
   "name": "python",
   "nbconvert_exporter": "python",
   "pygments_lexer": "ipython3",
   "version": "3.5.6"
  }
 },
 "nbformat": 4,
 "nbformat_minor": 5
}
